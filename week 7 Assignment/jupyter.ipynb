{
 "cells": [
  {
   "cell_type": "markdown",
   "id": "e22b635a",
   "metadata": {},
   "source": [
    "# Import Required Libraries\n",
    "We will use pandas for data manipulation, numpy for numerical operations, matplotlib and seaborn for data visualization."
   ]
  },
  {
   "cell_type": "code",
   "execution_count": 2,
   "id": "3f0acf85",
   "metadata": {},
   "outputs": [],
   "source": [
    "# Import Required Libraries\n",
    "import pandas as pd\n",
    "import numpy as np\n",
    "import matplotlib.pyplot as plt\n",
    "import seaborn as sns"
   ]
  },
  {
   "cell_type": "markdown",
   "id": "40e9f990",
   "metadata": {},
   "source": [
    "# Load the Dataset with Error Handling\n",
    "Let's load the Iris dataset from a CSV file. We'll use a try-except block to handle possible file reading errors."
   ]
  },
  {
   "cell_type": "markdown",
   "id": "4aef7c3a",
   "metadata": {},
   "source": []
  },
  {
   "cell_type": "markdown",
   "id": "ebb6f6df",
   "metadata": {},
   "source": [
    "# Display First Few Rows\n",
    "Let's inspect the first five rows of the dataset to get an overview of the data."
   ]
  },
  {
   "cell_type": "code",
   "execution_count": null,
   "id": "e03f8784",
   "metadata": {},
   "outputs": [],
   "source": [
    "# Display First Few Rows\n",
    "df.head()"
   ]
  },
  {
   "cell_type": "markdown",
   "id": "438d3810",
   "metadata": {},
   "source": [
    "# Explore Dataset Structure\n",
    "We will check the data types of each column and look for missing values in the dataset."
   ]
  },
  {
   "cell_type": "code",
   "execution_count": null,
   "id": "80935ea1",
   "metadata": {},
   "outputs": [],
   "source": [
    "# Explore Dataset Structure\n",
    "print(\"Data Types:\\n\", df.dtypes)\n",
    "print(\"\\nMissing Values:\\n\", df.isnull().sum())"
   ]
  },
  {
   "cell_type": "markdown",
   "id": "71b0254a",
   "metadata": {},
   "source": [
    "# Handle Missing Values\n",
    "If there are missing values, we will either fill them with appropriate values or drop the affected rows/columns."
   ]
  },
  {
   "cell_type": "code",
   "execution_count": null,
   "id": "503b4a30",
   "metadata": {},
   "outputs": [],
   "source": [
    "# Handle Missing Values\n",
    "# For demonstration, we'll fill missing numerical values with the column mean and drop rows with missing categorical values\n",
    "\n",
    "num_cols = df.select_dtypes(include=[np.number]).columns\n",
    "cat_cols = df.select_dtypes(include=['object']).columns\n",
    "\n",
    "df[num_cols] = df[num_cols].fillna(df[num_cols].mean())\n",
    "df = df.dropna(subset=cat_cols)\n",
    "\n",
    "print(\"Missing values after cleaning:\\n\", df.isnull().sum())"
   ]
  },
  {
   "cell_type": "markdown",
   "id": "5210084c",
   "metadata": {},
   "source": [
    "# Compute Basic Statistics\n",
    "Let's compute basic statistics such as mean, median, and standard deviation for the numerical columns."
   ]
  },
  {
   "cell_type": "code",
   "execution_count": null,
   "id": "009adf34",
   "metadata": {},
   "outputs": [],
   "source": [
    "# Compute Basic Statistics\n",
    "stats = df.describe()\n",
    "print(stats)"
   ]
  },
  {
   "cell_type": "markdown",
   "id": "b7ea0209",
   "metadata": {},
   "source": [
    "# Group and Aggregate Data\n",
    "We will group the data by the 'species' column and compute the mean of the numerical columns for each species."
   ]
  },
  {
   "cell_type": "code",
   "execution_count": null,
   "id": "418e5927",
   "metadata": {},
   "outputs": [],
   "source": [
    "# Group and Aggregate Data\n",
    "grouped = df.groupby('species').mean(numeric_only=True)\n",
    "print(grouped)"
   ]
  },
  {
   "cell_type": "markdown",
   "id": "8daf26d4",
   "metadata": {},
   "source": [
    "# Identify Patterns and Insights\n",
    "Based on the grouped statistics and overall data, let's summarize any interesting findings or patterns."
   ]
  },
  {
   "cell_type": "markdown",
   "id": "6adc546c",
   "metadata": {},
   "source": [
    "- The Iris dataset shows clear differences in average measurements between species.\n",
    "- For example, Iris-setosa typically has smaller petal lengths and widths compared to Iris-versicolor and Iris-virginica.\n",
    "- Sepal measurements also vary by species, which can help in classification tasks."
   ]
  },
  {
   "cell_type": "markdown",
   "id": "4294d2fc",
   "metadata": {},
   "source": [
    "# Line Chart: Trends Over Time\n",
    "If the dataset contains a time or sequential column, we can plot a line chart to show trends. For demonstration, let's plot the sepal length across the dataset index."
   ]
  },
  {
   "cell_type": "code",
   "execution_count": null,
   "id": "d5e42d3d",
   "metadata": {},
   "outputs": [],
   "source": [
    "# Line Chart: Trends Over Time\n",
    "plt.figure(figsize=(10, 5))\n",
    "plt.plot(df.index, df['sepal_length'], label='Sepal Length')\n",
    "plt.title('Sepal Length Trend Across Samples')\n",
    "plt.xlabel('Sample Index')\n",
    "plt.ylabel('Sepal Length (cm)')\n",
    "plt.legend()\n",
    "plt.show()"
   ]
  },
  {
   "cell_type": "markdown",
   "id": "eb2458dc",
   "metadata": {},
   "source": [
    "# Bar Chart: Comparison Across Categories\n",
    "Let's compare the average petal length for each species using a bar chart."
   ]
  },
  {
   "cell_type": "code",
   "execution_count": null,
   "id": "fa2bc555",
   "metadata": {},
   "outputs": [],
   "source": [
    "# Bar Chart: Comparison Across Categories\n",
    "plt.figure(figsize=(8, 5))\n",
    "sns.barplot(x=grouped.index, y=grouped['petal_length'])\n",
    "plt.title('Average Petal Length per Species')\n",
    "plt.xlabel('Species')\n",
    "plt.ylabel('Average Petal Length (cm)')\n",
    "plt.show()"
   ]
  },
  {
   "cell_type": "markdown",
   "id": "cb9bf026",
   "metadata": {},
   "source": [
    "# Histogram: Distribution of Numerical Column\n",
    "We will plot a histogram of the petal width to visualize its distribution."
   ]
  },
  {
   "cell_type": "code",
   "execution_count": null,
   "id": "b39f8dfe",
   "metadata": {},
   "outputs": [],
   "source": [
    "# Histogram: Distribution of Numerical Column\n",
    "plt.figure(figsize=(8, 5))\n",
    "plt.hist(df['petal_width'], bins=20, color='skyblue', edgecolor='black')\n",
    "plt.title('Distribution of Petal Width')\n",
    "plt.xlabel('Petal Width (cm)')\n",
    "plt.ylabel('Frequency')\n",
    "plt.show()"
   ]
  },
  {
   "cell_type": "markdown",
   "id": "a91ec4b8",
   "metadata": {},
   "source": [
    "# Scatter Plot: Relationship Between Two Numerical Columns\n",
    "Let's visualize the relationship between sepal length and petal length for different species."
   ]
  },
  {
   "cell_type": "markdown",
   "id": "795154b6",
   "metadata": {},
   "source": [
    "# Customize Plots with Titles, Labels, and Legends\n",
    "All plots above have been customized with descriptive titles, axis labels, and legends using matplotlib and seaborn options for clarity and presentation."
   ]
  }
 ],
 "metadata": {
  "kernelspec": {
   "display_name": "Python 3",
   "language": "python",
   "name": "python3"
  },
  "language_info": {
   "codemirror_mode": {
    "name": "ipython",
    "version": 3
   },
   "file_extension": ".py",
   "mimetype": "text/x-python",
   "name": "python",
   "nbconvert_exporter": "python",
   "pygments_lexer": "ipython3",
   "version": "3.13.5"
  }
 },
 "nbformat": 4,
 "nbformat_minor": 5
}
